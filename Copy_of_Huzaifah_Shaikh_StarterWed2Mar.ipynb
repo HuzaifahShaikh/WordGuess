{
  "nbformat": 4,
  "nbformat_minor": 0,
  "metadata": {
    "colab": {
      "provenance": []
    },
    "kernelspec": {
      "name": "python3",
      "display_name": "Python 3"
    },
    "language_info": {
      "name": "python"
    }
  },
  "cells": [
    {
      "cell_type": "markdown",
      "source": [
        "Write Python code to achieve the following:\n",
        "\n",
        "1) Print out the string \"WORDLE\" letter by letter each on a different line\n",
        "\n",
        "2) Repeat the first task, but use a different programming technique\n",
        "\n",
        "3) Print out each letter of the string \"ADA SKILLS\" backwards\n",
        "\n",
        "4) Repeat task 3 but allow the user to end the string they want printed backwards\n",
        "\n",
        "\n"
      ],
      "metadata": {
        "id": "qIW0x6rpT9QB"
      }
    },
    {
      "cell_type": "code",
      "execution_count": 1,
      "metadata": {
        "id": "9BmaxqLgT6Mr",
        "colab": {
          "base_uri": "https://localhost:8080/"
        },
        "outputId": "2a10eee5-65e8-4712-a2b9-100143027971"
      },
      "outputs": [
        {
          "output_type": "stream",
          "name": "stdout",
          "text": [
            "HELLO WORLD!\n"
          ]
        }
      ],
      "source": [
        "#write your code here\n",
        "print(\"HELLO WORLD!\")"
      ]
    },
    {
      "cell_type": "code",
      "source": [
        "word = \"WORDLE\"\n",
        "for i in word:\n",
        "  print(i)"
      ],
      "metadata": {
        "colab": {
          "base_uri": "https://localhost:8080/"
        },
        "id": "tjq5frRCeh2g",
        "outputId": "8fbe64c5-ccfb-4756-dda8-5278e5e02188"
      },
      "execution_count": 2,
      "outputs": [
        {
          "output_type": "stream",
          "name": "stdout",
          "text": [
            "W\n",
            "O\n",
            "R\n",
            "D\n",
            "L\n",
            "E\n"
          ]
        }
      ]
    },
    {
      "cell_type": "code",
      "source": [
        "word2 = \"HUZAIFAH\"\n",
        "for i in range(0, 7):\n",
        "  print(word2[i])"
      ],
      "metadata": {
        "colab": {
          "base_uri": "https://localhost:8080/"
        },
        "id": "MsiAFhMKgv21",
        "outputId": "afa97fd8-e179-457d-8c7a-31cec174edda"
      },
      "execution_count": 3,
      "outputs": [
        {
          "output_type": "stream",
          "name": "stdout",
          "text": [
            "H\n",
            "U\n",
            "Z\n",
            "A\n",
            "I\n",
            "F\n",
            "A\n"
          ]
        }
      ]
    },
    {
      "cell_type": "code",
      "source": [
        "def reverse(str):\n",
        "    if len(str) == 0:\n",
        "        return str\n",
        "    else:\n",
        "        return reverse(str[1:]) + str[0]\n",
        "mystr = \"ADASKILLS\"\n",
        "\n",
        "print(\"Original: \", mystr)\n",
        "\n",
        "print(\"Backwards: \", reverse(mystr))"
      ],
      "metadata": {
        "colab": {
          "base_uri": "https://localhost:8080/"
        },
        "id": "38khSTRAirt_",
        "outputId": "eec9a9b8-3517-4461-e41f-3ab720f07fc0"
      },
      "execution_count": 4,
      "outputs": [
        {
          "output_type": "stream",
          "name": "stdout",
          "text": [
            "Original:  ADASKILLS\n",
            "Backwards:  SLLIKSADA\n"
          ]
        }
      ]
    },
    {
      "cell_type": "code",
      "source": [
        "s1 = \"HELLO\"\n",
        "s2 = \"WORLD\"\n",
        "s = \"\".join([s1[i] + s2[i] for i in range(len(s1))]) + s2[len(s1):]\n",
        "print(s)"
      ],
      "metadata": {
        "colab": {
          "base_uri": "https://localhost:8080/"
        },
        "id": "hIEBn1gQkrbd",
        "outputId": "12160113-e930-4a8b-f1ff-007c69b8d91d"
      },
      "execution_count": 5,
      "outputs": [
        {
          "output_type": "stream",
          "name": "stdout",
          "text": [
            "HWEOLRLLOD\n"
          ]
        }
      ]
    },
    {
      "cell_type": "code",
      "source": [
        "#Guess a Word V1\n",
        "ListOfWords = [\"FIZZY\", \"TEARS\", \"NASTY\", \"SPINE\", \"COURT\", \"COUNT\",]\n",
        "\n",
        "#computer chooses a random word\n",
        "computerGuess = random.choice(ListOfWords)\n",
        "#ask the user to enter their guess \n",
        "usersGuess = input(\"Guess your 5 letter word\")\n",
        "#compare their guess against the random word\n",
        "if userGuess == computerGuess\n"
      ],
      "metadata": {
        "id": "6QmT0I0lnoIb",
        "colab": {
          "base_uri": "https://localhost:8080/",
          "height": 130
        },
        "outputId": "c82a1aef-f630-4ca6-9a47-4f213bc43004"
      },
      "execution_count": 6,
      "outputs": [
        {
          "output_type": "error",
          "ename": "SyntaxError",
          "evalue": "ignored",
          "traceback": [
            "\u001b[0;36m  File \u001b[0;32m\"<ipython-input-6-54eaf0876bcb>\"\u001b[0;36m, line \u001b[0;32m9\u001b[0m\n\u001b[0;31m    if userGuess == computerGuess\u001b[0m\n\u001b[0m                                 ^\u001b[0m\n\u001b[0;31mSyntaxError\u001b[0m\u001b[0;31m:\u001b[0m invalid syntax\n"
          ]
        }
      ]
    },
    {
      "cell_type": "code",
      "source": [
        "import random\n",
        "# library that we use in order to choose\n",
        "# on random words from a list of words\n",
        "\n",
        "name = input(\"What is your name? \")\n",
        "# Here the user is asked to enter the name first\n",
        "\n",
        "print(\"Good Luck ! \", name)\n",
        "\n",
        "words = [\"FIZZY\", \"TEARS\", \"NASTY\", \"SPINE\", \"COURT\", \"COUNT\",]\n",
        "\n",
        "# Function will choose one random\n",
        "# word from this list of words\n",
        "word = random.choice(words)\n",
        "\n",
        "\n",
        "print(\"Guess the characters\")\n",
        "\n",
        "guesses = ''\n",
        "\n",
        "# any number of turns can be used here\n",
        "turns = 12\n",
        "\n",
        "\n",
        "while turns > 0:\n",
        "\t\n",
        "\t# counts the number of times a user fails\n",
        "\tfailed = 0\n",
        "\t\n",
        "\t# all characters from the input\n",
        "\t# word taking one at a time.\n",
        "\tfor char in word:\n",
        "\t\t\n",
        "\t\t# comparing that character with\n",
        "\t\t# the character in guesses\n",
        "\t\tif char in guesses:\n",
        "\t\t\tprint(char, end=\" \")\n",
        "\t\t\t\n",
        "\t\telse:\n",
        "\t\t\tprint(\"_\")\n",
        "\t\t\tprint(char, end=\" \")\n",
        "\t\t\t\n",
        "\t\t\t# for every failure 1 will be\n",
        "\t\t\t# incremented in failure\n",
        "\t\t\tfailed += 1\n",
        "\t\t\t\n",
        "\n",
        "\tif failed == 0:\n",
        "\t\t# user will win the game if failure is 0\n",
        "\t\t# and 'You Win' will be given as output\n",
        "\t\tprint(\"You Win\")\n",
        "\t\t\n",
        "\t\t# this print the correct word\n",
        "\t\tprint(\"The word is: \", word)\n",
        "\t\tbreak\n",
        "\t\n",
        "\t# if user has input the wrong alphabet then\n",
        "\t# it will ask user to enter another alphabet\n",
        "\tprint()\n",
        "\tguess = input(\"guess a character:\")\n",
        "\t\n",
        "\t# every input character will be stored in guesses\n",
        "\tguesses += guess\n",
        "\t\n",
        "\t# check input with the character in word\n",
        "\tif guess not in word:\n",
        "\t\t\n",
        "\t\tturns -= 1\n",
        "\t\t\n",
        "\t\t# if the character doesn’t match the word\n",
        "\t\t# then “Wrong” will be given as output\n",
        "\t\tprint(\"Wrong\")\n",
        "\t\t\n",
        "\t\t# this will print the number of\n",
        "\t\t# turns left for the user\n",
        "\t\tprint(\"You have\", + turns, 'more guesses')\n",
        "\t\t\n",
        "\t\t\n",
        "\t\tif turns == 0:\n",
        "\t\t\tprint(\"You Lose\")\n"
      ],
      "metadata": {
        "colab": {
          "base_uri": "https://localhost:8080/"
        },
        "id": "DlyK6g7DrMzK",
        "outputId": "08208339-edf1-40aa-908c-7f7c085df766"
      },
      "execution_count": null,
      "outputs": [
        {
          "output_type": "stream",
          "name": "stdout",
          "text": [
            "What is your name? huz\n",
            "Good Luck !  huz\n",
            "Guess the characters\n",
            "_\n",
            "C _\n",
            "O _\n",
            "U _\n",
            "N _\n",
            "T \n",
            "guess a character:c\n",
            "Wrong\n",
            "You have 11 more guesses\n",
            "_\n",
            "C _\n",
            "O _\n",
            "U _\n",
            "N _\n",
            "T \n",
            "guess a character:h\n",
            "Wrong\n",
            "You have 10 more guesses\n",
            "_\n",
            "C _\n",
            "O _\n",
            "U _\n",
            "N _\n",
            "T \n",
            "guess a character:q\n",
            "Wrong\n",
            "You have 9 more guesses\n",
            "_\n",
            "C _\n",
            "O _\n",
            "U _\n",
            "N _\n",
            "T \n",
            "guess a character:f\n",
            "Wrong\n",
            "You have 8 more guesses\n",
            "_\n",
            "C _\n",
            "O _\n",
            "U _\n",
            "N _\n",
            "T \n",
            "guess a character:f\n",
            "Wrong\n",
            "You have 7 more guesses\n",
            "_\n",
            "C _\n",
            "O _\n",
            "U _\n",
            "N _\n",
            "T \n",
            "guess a character:s\n",
            "Wrong\n",
            "You have 6 more guesses\n",
            "_\n",
            "C _\n",
            "O _\n",
            "U _\n",
            "N _\n",
            "T \n",
            "guess a character:n\n",
            "Wrong\n",
            "You have 5 more guesses\n",
            "_\n",
            "C _\n",
            "O _\n",
            "U _\n",
            "N _\n",
            "T \n"
          ]
        }
      ]
    }
  ]
}